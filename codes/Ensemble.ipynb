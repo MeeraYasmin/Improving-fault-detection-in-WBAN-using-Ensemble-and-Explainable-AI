{
 "cells": [
  {
   "cell_type": "code",
   "execution_count": 4,
   "id": "b232e54a-d05e-4e53-b768-64a2d09c1294",
   "metadata": {},
   "outputs": [],
   "source": [
    "import pandas as pd\n",
    "import numpy as np\n",
    "from sklearn.cluster import KMeans\n",
    "from sklearn.model_selection import train_test_split\n",
    "from sklearn.preprocessing import StandardScaler\n",
    "from sklearn.ensemble import RandomForestClassifier, GradientBoostingClassifier\n",
    "from sklearn.tree import DecisionTreeClassifier\n",
    "from sklearn.svm import SVC\n",
    "from sklearn.linear_model import LogisticRegression\n",
    "from sklearn.metrics import accuracy_score, classification_report\n",
    "from tensorflow.keras.models import Sequential\n",
    "from tensorflow.keras.layers import LSTM, Dense, Dropout\n",
    "from tensorflow.keras.utils import to_categorical\n",
    "from tensorflow.keras.wrappers.scikit_learn import KerasClassifier"
   ]
  },
  {
   "cell_type": "code",
   "execution_count": 2,
   "id": "5acf2b60-8baf-4b6c-beca-1d2f2607c7be",
   "metadata": {},
   "outputs": [],
   "source": [
    "data_path = r'C:\\Users\\91767\\OneDrive\\Documents\\fdata_w.csv'\n",
    "data = pd.read_csv(data_path)"
   ]
  },
  {
   "cell_type": "code",
   "execution_count": 5,
   "id": "a5641f08-68b9-477d-9b58-bc3d4fc2b815",
   "metadata": {},
   "outputs": [],
   "source": [
    "X = data\n",
    "kmeans = KMeans(n_clusters=2, random_state=42)\n",
    "y = kmeans.fit_predict(X)"
   ]
  },
  {
   "cell_type": "code",
   "execution_count": 6,
   "id": "b283abdd-440a-4179-85f6-40997b474399",
   "metadata": {},
   "outputs": [],
   "source": [
    "X_train, X_test, y_train, y_test = train_test_split(X, y, test_size=0.2, random_state=42)"
   ]
  },
  {
   "cell_type": "code",
   "execution_count": 7,
   "id": "b41ae96b-820c-4205-8e1f-b1516f141f27",
   "metadata": {},
   "outputs": [],
   "source": [
    "scaler = StandardScaler()\n",
    "X_train = scaler.fit_transform(X_train)\n",
    "X_test = scaler.transform(X_test)"
   ]
  },
  {
   "cell_type": "code",
   "execution_count": 8,
   "id": "2181dc5e-2648-4467-9676-6f84d34286a8",
   "metadata": {},
   "outputs": [],
   "source": [
    "dt_model = DecisionTreeClassifier(random_state=42)\n",
    "dt_model.fit(X_train, y_train)\n",
    "dt_predictions = dt_model.predict(X_test)"
   ]
  },
  {
   "cell_type": "code",
   "execution_count": 9,
   "id": "57ad8599-c5ff-4783-825d-40a71d4007ea",
   "metadata": {},
   "outputs": [],
   "source": [
    "rf_model = RandomForestClassifier(n_estimators=100, random_state=42)\n",
    "rf_model.fit(X_train, y_train)\n",
    "rf_predictions = rf_model.predict(X_test)"
   ]
  },
  {
   "cell_type": "code",
   "execution_count": 10,
   "id": "cc9a264c-ec0b-454b-8ffe-e2aa5d80ebee",
   "metadata": {},
   "outputs": [],
   "source": [
    "gb_model = GradientBoostingClassifier(n_estimators=100, random_state=42)\n",
    "gb_model.fit(X_train, y_train)\n",
    "gb_predictions = gb_model.predict(X_test)"
   ]
  },
  {
   "cell_type": "code",
   "execution_count": 11,
   "id": "9da2fe4d-a41b-4ab1-b294-1824d7f6816b",
   "metadata": {},
   "outputs": [],
   "source": [
    "svm_model = SVC(probability=True, random_state=42)\n",
    "svm_model.fit(X_train, y_train)\n",
    "svm_predictions = svm_model.predict(X_test)"
   ]
  },
  {
   "cell_type": "code",
   "execution_count": 12,
   "id": "94715abb-360d-4faf-b9f4-7a52efe8cfc3",
   "metadata": {},
   "outputs": [],
   "source": [
    "def create_ann_model():\n",
    "    model = Sequential()\n",
    "    model.add(Dense(64, input_dim=X_train.shape[1], activation='relu'))\n",
    "    model.add(Dropout(0.5))\n",
    "    model.add(Dense(64, activation='relu'))\n",
    "    model.add(Dropout(0.5))\n",
    "    model.add(Dense(1, activation='sigmoid'))\n",
    "    model.compile(loss='binary_crossentropy', optimizer='adam', metrics=['accuracy'])\n",
    "    return model"
   ]
  },
  {
   "cell_type": "code",
   "execution_count": 13,
   "id": "784891df-804d-4f42-9d0d-cd779d80b638",
   "metadata": {},
   "outputs": [
    {
     "name": "stderr",
     "output_type": "stream",
     "text": [
      "C:\\Users\\91767\\AppData\\Local\\Temp\\ipykernel_14512\\868258244.py:1: DeprecationWarning: KerasClassifier is deprecated, use Sci-Keras (https://github.com/adriangb/scikeras) instead. See https://www.adriangb.com/scikeras/stable/migration.html for help migrating.\n",
      "  ann_model = KerasClassifier(build_fn=create_ann_model, epochs=50, batch_size=64, verbose=0)\n"
     ]
    },
    {
     "name": "stdout",
     "output_type": "stream",
     "text": [
      "186/186 [==============================] - 1s 3ms/step\n"
     ]
    }
   ],
   "source": [
    "ann_model = KerasClassifier(build_fn=create_ann_model, epochs=50, batch_size=64, verbose=0)\n",
    "ann_model.fit(X_train, y_train)\n",
    "ann_predictions = ann_model.predict(X_test)"
   ]
  },
  {
   "cell_type": "code",
   "execution_count": 14,
   "id": "265da9f0-84ef-4bb9-b652-d38c95b316e6",
   "metadata": {},
   "outputs": [],
   "source": [
    "X_train_rnn = np.reshape(X_train, (X_train.shape[0], 1, X_train.shape[1]))\n",
    "X_test_rnn = np.reshape(X_test, (X_test.shape[0], 1, X_test.shape[1]))\n",
    "y_train_categorical = to_categorical(y_train)\n",
    "y_test_categorical = to_categorical(y_test)"
   ]
  },
  {
   "cell_type": "code",
   "execution_count": 15,
   "id": "eb3ec472-47bb-4cb0-9ffe-31598e18bca5",
   "metadata": {},
   "outputs": [
    {
     "name": "stdout",
     "output_type": "stream",
     "text": [
      "Epoch 1/50\n",
      "370/370 [==============================] - 15s 16ms/step - loss: 0.1653 - accuracy: 0.9564 - val_loss: 0.0383 - val_accuracy: 0.9872\n",
      "Epoch 2/50\n",
      "370/370 [==============================] - 3s 9ms/step - loss: 0.0280 - accuracy: 0.9898 - val_loss: 0.0205 - val_accuracy: 0.9922\n",
      "Epoch 3/50\n",
      "370/370 [==============================] - 3s 9ms/step - loss: 0.0187 - accuracy: 0.9923 - val_loss: 0.0121 - val_accuracy: 0.9965\n",
      "Epoch 4/50\n",
      "370/370 [==============================] - 3s 9ms/step - loss: 0.0136 - accuracy: 0.9951 - val_loss: 0.0130 - val_accuracy: 0.9943\n",
      "Epoch 5/50\n",
      "370/370 [==============================] - 3s 9ms/step - loss: 0.0122 - accuracy: 0.9954 - val_loss: 0.0084 - val_accuracy: 0.9971\n",
      "Epoch 6/50\n",
      "370/370 [==============================] - 3s 9ms/step - loss: 0.0108 - accuracy: 0.9956 - val_loss: 0.0086 - val_accuracy: 0.9965\n",
      "Epoch 7/50\n",
      "370/370 [==============================] - 3s 9ms/step - loss: 0.0099 - accuracy: 0.9961 - val_loss: 0.0090 - val_accuracy: 0.9958\n",
      "Epoch 8/50\n",
      "370/370 [==============================] - 3s 8ms/step - loss: 0.0076 - accuracy: 0.9971 - val_loss: 0.0058 - val_accuracy: 0.9985\n",
      "Epoch 9/50\n",
      "370/370 [==============================] - 3s 9ms/step - loss: 0.0078 - accuracy: 0.9967 - val_loss: 0.0048 - val_accuracy: 0.9992\n",
      "Epoch 10/50\n",
      "370/370 [==============================] - 4s 10ms/step - loss: 0.0076 - accuracy: 0.9971 - val_loss: 0.0072 - val_accuracy: 0.9973\n",
      "Epoch 11/50\n",
      "370/370 [==============================] - 3s 9ms/step - loss: 0.0072 - accuracy: 0.9968 - val_loss: 0.0058 - val_accuracy: 0.9980\n",
      "Epoch 12/50\n",
      "370/370 [==============================] - 3s 9ms/step - loss: 0.0070 - accuracy: 0.9971 - val_loss: 0.0056 - val_accuracy: 0.9980\n",
      "Epoch 13/50\n",
      "370/370 [==============================] - 3s 9ms/step - loss: 0.0068 - accuracy: 0.9975 - val_loss: 0.0045 - val_accuracy: 0.9983\n",
      "Epoch 14/50\n",
      "370/370 [==============================] - 3s 9ms/step - loss: 0.0077 - accuracy: 0.9969 - val_loss: 0.0045 - val_accuracy: 0.9985\n",
      "Epoch 15/50\n",
      "370/370 [==============================] - 3s 9ms/step - loss: 0.0073 - accuracy: 0.9970 - val_loss: 0.0094 - val_accuracy: 0.9956\n",
      "Epoch 16/50\n",
      "370/370 [==============================] - 3s 8ms/step - loss: 0.0066 - accuracy: 0.9970 - val_loss: 0.0051 - val_accuracy: 0.9980\n",
      "Epoch 17/50\n",
      "370/370 [==============================] - 3s 9ms/step - loss: 0.0051 - accuracy: 0.9978 - val_loss: 0.0071 - val_accuracy: 0.9971\n",
      "Epoch 18/50\n",
      "370/370 [==============================] - 3s 9ms/step - loss: 0.0059 - accuracy: 0.9971 - val_loss: 0.0033 - val_accuracy: 0.9997\n",
      "Epoch 19/50\n",
      "370/370 [==============================] - 3s 9ms/step - loss: 0.0062 - accuracy: 0.9971 - val_loss: 0.0080 - val_accuracy: 0.9963\n",
      "Epoch 20/50\n",
      "370/370 [==============================] - 4s 10ms/step - loss: 0.0059 - accuracy: 0.9975 - val_loss: 0.0052 - val_accuracy: 0.9978\n",
      "Epoch 21/50\n",
      "370/370 [==============================] - 3s 8ms/step - loss: 0.0058 - accuracy: 0.9974 - val_loss: 0.0060 - val_accuracy: 0.9980\n",
      "Epoch 22/50\n",
      "370/370 [==============================] - 3s 8ms/step - loss: 0.0056 - accuracy: 0.9977 - val_loss: 0.0100 - val_accuracy: 0.9958\n",
      "Epoch 23/50\n",
      "370/370 [==============================] - 3s 9ms/step - loss: 0.0048 - accuracy: 0.9978 - val_loss: 0.0041 - val_accuracy: 0.9980\n",
      "Epoch 24/50\n",
      "370/370 [==============================] - 3s 8ms/step - loss: 0.0058 - accuracy: 0.9976 - val_loss: 0.0092 - val_accuracy: 0.9966\n",
      "Epoch 25/50\n",
      "370/370 [==============================] - 3s 9ms/step - loss: 0.0058 - accuracy: 0.9973 - val_loss: 0.0042 - val_accuracy: 0.9983\n",
      "Epoch 26/50\n",
      "370/370 [==============================] - 3s 8ms/step - loss: 0.0050 - accuracy: 0.9977 - val_loss: 0.0041 - val_accuracy: 0.9981\n",
      "Epoch 27/50\n",
      "370/370 [==============================] - 3s 9ms/step - loss: 0.0054 - accuracy: 0.9977 - val_loss: 0.0034 - val_accuracy: 0.9988\n",
      "Epoch 28/50\n",
      "370/370 [==============================] - 3s 8ms/step - loss: 0.0056 - accuracy: 0.9977 - val_loss: 0.0036 - val_accuracy: 0.9986\n",
      "Epoch 29/50\n",
      "370/370 [==============================] - 3s 8ms/step - loss: 0.0057 - accuracy: 0.9978 - val_loss: 0.0045 - val_accuracy: 0.9985\n",
      "Epoch 30/50\n",
      "370/370 [==============================] - 3s 8ms/step - loss: 0.0042 - accuracy: 0.9986 - val_loss: 0.0062 - val_accuracy: 0.9968\n",
      "Epoch 31/50\n",
      "370/370 [==============================] - 3s 8ms/step - loss: 0.0058 - accuracy: 0.9975 - val_loss: 0.0084 - val_accuracy: 0.9961\n",
      "Epoch 32/50\n",
      "370/370 [==============================] - 3s 8ms/step - loss: 0.0048 - accuracy: 0.9979 - val_loss: 0.0039 - val_accuracy: 0.9985\n",
      "Epoch 33/50\n",
      "370/370 [==============================] - 3s 8ms/step - loss: 0.0041 - accuracy: 0.9982 - val_loss: 0.0031 - val_accuracy: 0.9985\n",
      "Epoch 34/50\n",
      "370/370 [==============================] - 3s 8ms/step - loss: 0.0054 - accuracy: 0.9982 - val_loss: 0.0150 - val_accuracy: 0.9951\n",
      "Epoch 35/50\n",
      "370/370 [==============================] - 3s 8ms/step - loss: 0.0061 - accuracy: 0.9976 - val_loss: 0.0045 - val_accuracy: 0.9978\n",
      "Epoch 36/50\n",
      "370/370 [==============================] - 3s 8ms/step - loss: 0.0044 - accuracy: 0.9980 - val_loss: 0.0061 - val_accuracy: 0.9971\n",
      "Epoch 37/50\n",
      "370/370 [==============================] - 3s 9ms/step - loss: 0.0049 - accuracy: 0.9982 - val_loss: 0.0037 - val_accuracy: 0.9985\n",
      "Epoch 38/50\n",
      "370/370 [==============================] - 3s 9ms/step - loss: 0.0041 - accuracy: 0.9982 - val_loss: 0.0035 - val_accuracy: 0.9981\n",
      "Epoch 39/50\n",
      "370/370 [==============================] - 3s 8ms/step - loss: 0.0052 - accuracy: 0.9981 - val_loss: 0.0057 - val_accuracy: 0.9971\n",
      "Epoch 40/50\n",
      "370/370 [==============================] - 3s 8ms/step - loss: 0.0046 - accuracy: 0.9980 - val_loss: 0.0030 - val_accuracy: 0.9990\n",
      "Epoch 41/50\n",
      "370/370 [==============================] - 3s 8ms/step - loss: 0.0046 - accuracy: 0.9981 - val_loss: 0.0034 - val_accuracy: 0.9990\n",
      "Epoch 42/50\n",
      "370/370 [==============================] - 3s 8ms/step - loss: 0.0048 - accuracy: 0.9979 - val_loss: 0.0039 - val_accuracy: 0.9983\n",
      "Epoch 43/50\n",
      "370/370 [==============================] - 3s 9ms/step - loss: 0.0044 - accuracy: 0.9980 - val_loss: 0.0043 - val_accuracy: 0.9976\n",
      "Epoch 44/50\n",
      "370/370 [==============================] - 3s 9ms/step - loss: 0.0043 - accuracy: 0.9982 - val_loss: 0.0041 - val_accuracy: 0.9978\n",
      "Epoch 45/50\n",
      "370/370 [==============================] - 3s 8ms/step - loss: 0.0049 - accuracy: 0.9978 - val_loss: 0.0044 - val_accuracy: 0.9981\n",
      "Epoch 46/50\n",
      "370/370 [==============================] - 3s 8ms/step - loss: 0.0043 - accuracy: 0.9982 - val_loss: 0.0048 - val_accuracy: 0.9981\n",
      "Epoch 47/50\n",
      "370/370 [==============================] - 3s 8ms/step - loss: 0.0047 - accuracy: 0.9980 - val_loss: 0.0058 - val_accuracy: 0.9975\n",
      "Epoch 48/50\n",
      "370/370 [==============================] - 3s 8ms/step - loss: 0.0044 - accuracy: 0.9980 - val_loss: 0.0034 - val_accuracy: 0.9990\n",
      "Epoch 49/50\n",
      "370/370 [==============================] - 3s 8ms/step - loss: 0.0046 - accuracy: 0.9978 - val_loss: 0.0057 - val_accuracy: 0.9971\n",
      "Epoch 50/50\n",
      "370/370 [==============================] - 3s 8ms/step - loss: 0.0042 - accuracy: 0.9983 - val_loss: 0.0027 - val_accuracy: 0.9990\n",
      "186/186 [==============================] - 3s 4ms/step\n"
     ]
    }
   ],
   "source": [
    "rnn_model = Sequential()\n",
    "rnn_model.add(LSTM(50, input_shape=(1, X_train.shape[1]), return_sequences=True))\n",
    "rnn_model.add(Dropout(0.2))\n",
    "rnn_model.add(LSTM(50, return_sequences=False))\n",
    "rnn_model.add(Dropout(0.2))\n",
    "rnn_model.add(Dense(y_train_categorical.shape[1], activation='softmax'))\n",
    "\n",
    "rnn_model.compile(loss='categorical_crossentropy', optimizer='adam', metrics=['accuracy'])\n",
    "rnn_model.fit(X_train_rnn, y_train_categorical, epochs=50, batch_size=64, validation_data=(X_test_rnn, y_test_categorical))\n",
    "rnn_predictions = np.argmax(rnn_model.predict(X_test_rnn), axis=1)"
   ]
  },
  {
   "cell_type": "code",
   "execution_count": 16,
   "id": "ede20b29-53a5-4b5a-a7de-6d32914b03d2",
   "metadata": {},
   "outputs": [],
   "source": [
    "stacked_predictions = np.column_stack((dt_predictions, rf_predictions, gb_predictions, svm_predictions, ann_predictions, rnn_predictions))"
   ]
  },
  {
   "cell_type": "code",
   "execution_count": 17,
   "id": "b6e67965-d685-4295-8009-b147b9b2a62a",
   "metadata": {},
   "outputs": [],
   "source": [
    "meta_model = LogisticRegression()\n",
    "meta_model.fit(stacked_predictions, y_test)\n",
    "meta_predictions = meta_model.predict(stacked_predictions)"
   ]
  },
  {
   "cell_type": "code",
   "execution_count": 18,
   "id": "dc2cba70-104c-4d3d-a335-2af1d417db85",
   "metadata": {},
   "outputs": [],
   "source": [
    "ensemble_accuracy = accuracy_score(y_test, meta_predictions)\n",
    "ensemble_classification_report = classification_report(y_test, meta_predictions)"
   ]
  },
  {
   "cell_type": "code",
   "execution_count": 19,
   "id": "883485c8-8dcb-4fcb-82d6-a1023e1c3378",
   "metadata": {},
   "outputs": [
    {
     "name": "stdout",
     "output_type": "stream",
     "text": [
      "Ensemble Accuracy: 0.9996622192197264\n",
      "Ensemble Classification Report:\n",
      "              precision    recall  f1-score   support\n",
      "\n",
      "           0       1.00      1.00      1.00      4646\n",
      "           1       1.00      1.00      1.00      1275\n",
      "\n",
      "    accuracy                           1.00      5921\n",
      "   macro avg       1.00      1.00      1.00      5921\n",
      "weighted avg       1.00      1.00      1.00      5921\n",
      "\n"
     ]
    }
   ],
   "source": [
    "print(f'Ensemble Accuracy: {ensemble_accuracy}')\n",
    "print(f'Ensemble Classification Report:\\n{ensemble_classification_report}')"
   ]
  },
  {
   "cell_type": "code",
   "execution_count": null,
   "id": "66137b9a-5d05-44f5-83e2-ea50e2c9b9be",
   "metadata": {},
   "outputs": [],
   "source": []
  }
 ],
 "metadata": {
  "kernelspec": {
   "display_name": "Python 3 (ipykernel)",
   "language": "python",
   "name": "python3"
  },
  "language_info": {
   "codemirror_mode": {
    "name": "ipython",
    "version": 3
   },
   "file_extension": ".py",
   "mimetype": "text/x-python",
   "name": "python",
   "nbconvert_exporter": "python",
   "pygments_lexer": "ipython3",
   "version": "3.11.4"
  }
 },
 "nbformat": 4,
 "nbformat_minor": 5
}
