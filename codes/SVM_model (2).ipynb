{
 "cells": [
  {
   "cell_type": "code",
   "execution_count": 1,
   "id": "01ded5a7-4978-4526-b242-158164e071a7",
   "metadata": {},
   "outputs": [],
   "source": [
    "import pandas as pd\n",
    "import numpy as np\n",
    "from sklearn.cluster import KMeans\n",
    "from sklearn.model_selection import train_test_split\n",
    "from sklearn.preprocessing import StandardScaler\n",
    "from sklearn.svm import SVC\n",
    "from sklearn.metrics import accuracy_score, classification_report"
   ]
  },
  {
   "cell_type": "code",
   "execution_count": 2,
   "id": "72800c49-5cf3-4246-b99e-e401397b958a",
   "metadata": {},
   "outputs": [],
   "source": [
    "data_path = r'C:\\Users\\91767\\OneDrive\\Documents\\fdata_w.csv'\n",
    "data = pd.read_csv(data_path)"
   ]
  },
  {
   "cell_type": "code",
   "execution_count": 3,
   "id": "125a37c4-1355-4850-8d0e-7d637efa78c1",
   "metadata": {},
   "outputs": [],
   "source": [
    "X = data"
   ]
  },
  {
   "cell_type": "code",
   "execution_count": 4,
   "id": "8f3d94e0-f7f4-49b6-bc09-68b913043719",
   "metadata": {},
   "outputs": [],
   "source": [
    "kmeans = KMeans(n_clusters=2, random_state=42)  \n",
    "y = kmeans.fit_predict(X)"
   ]
  },
  {
   "cell_type": "code",
   "execution_count": 5,
   "id": "8403e421-31e7-4cc1-9d38-7d9f0b85baad",
   "metadata": {},
   "outputs": [],
   "source": [
    "X_train, X_test, y_train, y_test = train_test_split(X, y, test_size=0.2, random_state=42)"
   ]
  },
  {
   "cell_type": "code",
   "execution_count": 6,
   "id": "4f333bda-4303-4024-b8bc-139df6e61c03",
   "metadata": {},
   "outputs": [],
   "source": [
    "scaler = StandardScaler()\n",
    "X_train = scaler.fit_transform(X_train)\n",
    "X_test = scaler.transform(X_test)"
   ]
  },
  {
   "cell_type": "code",
   "execution_count": 7,
   "id": "b5839bdb-43b6-44a7-b360-0c00bf9750ba",
   "metadata": {},
   "outputs": [],
   "source": [
    "svm_model = SVC(probability=True, random_state=42)\n",
    "svm_model.fit(X_train, y_train)\n",
    "svm_predictions = svm_model.predict(X_test)"
   ]
  },
  {
   "cell_type": "code",
   "execution_count": 8,
   "id": "33fb673c-debe-4c66-bc59-f291d047c6e0",
   "metadata": {},
   "outputs": [],
   "source": [
    "svm_accuracy = accuracy_score(y_test, svm_predictions)\n",
    "svm_classification_report = classification_report(y_test, svm_predictions)"
   ]
  },
  {
   "cell_type": "code",
   "execution_count": 9,
   "id": "8a899f4b-3635-4ff1-a96b-68949aaa6320",
   "metadata": {},
   "outputs": [
    {
     "name": "stdout",
     "output_type": "stream",
     "text": [
      "SVM Accuracy: 0.9947643979057592\n",
      "SVM Classification Report:\n",
      "              precision    recall  f1-score   support\n",
      "\n",
      "           0       1.00      1.00      1.00      4646\n",
      "           1       0.99      0.99      0.99      1275\n",
      "\n",
      "    accuracy                           0.99      5921\n",
      "   macro avg       0.99      0.99      0.99      5921\n",
      "weighted avg       0.99      0.99      0.99      5921\n",
      "\n"
     ]
    }
   ],
   "source": [
    "print(f'SVM Accuracy: {svm_accuracy}')\n",
    "print(f'SVM Classification Report:\\n{svm_classification_report}')"
   ]
  }
 ],
 "metadata": {
  "kernelspec": {
   "display_name": "Python 3 (ipykernel)",
   "language": "python",
   "name": "python3"
  },
  "language_info": {
   "codemirror_mode": {
    "name": "ipython",
    "version": 3
   },
   "file_extension": ".py",
   "mimetype": "text/x-python",
   "name": "python",
   "nbconvert_exporter": "python",
   "pygments_lexer": "ipython3",
   "version": "3.11.4"
  }
 },
 "nbformat": 4,
 "nbformat_minor": 5
}
